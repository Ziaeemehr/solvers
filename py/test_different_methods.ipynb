{
 "cells": [
  {
   "cell_type": "code",
   "execution_count": 1,
   "id": "deluxe-poultry",
   "metadata": {},
   "outputs": [],
   "source": [
    "import pyamg\n",
    "import numpy as np\n",
    "import pylab as plt\n",
    "from pprint import pprint\n",
    "from numpy.linalg import norm\n",
    "from pyamg.krylov import bicgstab\n",
    "from scipy.sparse import csc_matrix\n",
    "from scipy.sparse.linalg import splu"
   ]
  },
  {
   "cell_type": "code",
   "execution_count": 26,
   "id": "sporting-newsletter",
   "metadata": {},
   "outputs": [],
   "source": [
    "def show_results(x, A, b, method):\n",
    "\n",
    "#     print(\"solution is = \")\n",
    "#     for i in x:\n",
    "#         print(\"{:25.16e}\".format(i))\n",
    "    print(\"for {:16s} Ax-b is {:e}\".format(\n",
    "        method,\n",
    "        norm(A.dot(x)-b)))"
   ]
  },
  {
   "cell_type": "code",
   "execution_count": 27,
   "id": "loose-soundtrack",
   "metadata": {},
   "outputs": [],
   "source": [
    "# LOAD DATA\n",
    "def load_data(A_name, B_name):\n",
    "    A = np.loadtxt(A_name, dtype=np.float64)\n",
    "    B = np.loadtxt(B_name, dtype=np.float64)\n",
    "    \n",
    "    return A, B"
   ]
  },
  {
   "cell_type": "code",
   "execution_count": 28,
   "id": "challenging-sound",
   "metadata": {},
   "outputs": [
    {
     "name": "stdout",
     "output_type": "stream",
     "text": [
      "\n",
      "Conditional number of matrix A is: 5.223236e+25\n"
     ]
    }
   ],
   "source": [
    "A, B = load_data(\"data/A_large.txt\", \"data/B_large.txt\")\n",
    "cond = np.linalg.cond(A)\n",
    "print(\"\\nConditional number of matrix A is: {:e}\".format(cond))"
   ]
  },
  {
   "cell_type": "code",
   "execution_count": 29,
   "id": "fuzzy-conversion",
   "metadata": {},
   "outputs": [
    {
     "name": "stdout",
     "output_type": "stream",
     "text": [
      "for splu             Ax-b is 1.803454e-11\n"
     ]
    }
   ],
   "source": [
    "A_sp = csc_matrix(A)\n",
    "lu = splu(A_sp)\n",
    "x = lu.solve(B)\n",
    "show_results(x, A_sp, B, method=\"splu\")"
   ]
  },
  {
   "cell_type": "code",
   "execution_count": 30,
   "id": "fresh-nigeria",
   "metadata": {},
   "outputs": [
    {
     "name": "stdout",
     "output_type": "stream",
     "text": [
      "for fgmres           Ax-b is 2.598715e-03\n"
     ]
    },
    {
     "name": "stderr",
     "output_type": "stream",
     "text": [
      "/home/ziaee/.local/lib/python3.8/site-packages/pyamg/krylov/_fgmres.py:324: LinAlgWarning: Ill-conditioned matrix (rcond=5.91888e-18): result may not be accurate.\n",
      "  y = sp.linalg.solve(H[0:(inner+1), 0:(inner+1)], g[0:(inner+1)])\n"
     ]
    }
   ],
   "source": [
    "x, _ = pyamg.krylov.fgmres(A, B, maxiter=len(B), tol=1e-15)\n",
    "show_results(x, A, B, \"fgmres\")"
   ]
  },
  {
   "cell_type": "code",
   "execution_count": 31,
   "id": "creative-mauritius",
   "metadata": {},
   "outputs": [
    {
     "name": "stdout",
     "output_type": "stream",
     "text": [
      "for steepest_descent Ax-b is 5.459150e-04\n"
     ]
    }
   ],
   "source": [
    "x, _ = pyamg.krylov.steepest_descent(A, B, maxiter=len(A), tol=1e-15)\n",
    "show_results(x, A, B, \"steepest_descent\")"
   ]
  },
  {
   "cell_type": "code",
   "execution_count": null,
   "id": "postal-shopper",
   "metadata": {},
   "outputs": [],
   "source": []
  }
 ],
 "metadata": {
  "kernelspec": {
   "display_name": "Python 3",
   "language": "python",
   "name": "python3"
  },
  "language_info": {
   "codemirror_mode": {
    "name": "ipython",
    "version": 3
   },
   "file_extension": ".py",
   "mimetype": "text/x-python",
   "name": "python",
   "nbconvert_exporter": "python",
   "pygments_lexer": "ipython3",
   "version": "3.8.5"
  }
 },
 "nbformat": 4,
 "nbformat_minor": 5
}
