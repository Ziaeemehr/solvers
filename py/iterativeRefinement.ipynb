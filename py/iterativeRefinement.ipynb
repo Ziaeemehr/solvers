{
 "cells": [
  {
   "cell_type": "code",
   "execution_count": 10,
   "id": "improving-dictionary",
   "metadata": {},
   "outputs": [],
   "source": [
    "import numpy as np \n",
    "from copy import copy\n",
    "from numpy.linalg import norm\n",
    "from scipy.sparse import csc_matrix, csr_matrix\n",
    "from scipy.sparse.linalg import spsolve, cg, splu, gmres"
   ]
  },
  {
   "cell_type": "code",
   "execution_count": 26,
   "id": "political-telling",
   "metadata": {},
   "outputs": [],
   "source": [
    "def iterRef(A, b, tol=1e-5, maxiter=100, verbose=True):\n",
    "    \"\"\"\n",
    "    Solve the equation a x = b for x using Iterative Refinement method.\n",
    "\n",
    "    :param A: [(M,M) array_like] A square matrix.\n",
    "    :param b: [(M,) array like]Right-hand side matrix in a x = b.\n",
    "    :param maxIter: [int] max number of iteration for convergence.\n",
    "    :param t:  #!\n",
    "    :return x: (M,) or (M, N) ndarray\n",
    "        Solution to the system a x = b. Shape of the return matches the shape of b.\n",
    "\n",
    "    **Reference:**\n",
    "        Burden, R.L. and Faires, J.D., 2011. Numerical analysis.\n",
    "    \"\"\"\n",
    "\n",
    "    \n",
    "    # declarations\n",
    "    n = len(b)\n",
    "    xx = np.zeros_like(b)\n",
    "    r = np.zeros_like(b)\n",
    "\n",
    "    lu = splu(A)\n",
    "    x = lu.solve(b)\n",
    "    res = np.sum(A.dot(x)-b)\n",
    "    print(\"res :: A * x - b = {:e}\".format(res))\n",
    "\n",
    "    # check if converged\n",
    "    if np.abs(res) < tol:\n",
    "        print(\"IR ::: A * x - b = {:e}\".format(res))\n",
    "        return x\n",
    "\n",
    "    k = 1                                       # step 1\n",
    "    while (k <= maxiter):                       # step 2\n",
    "        r = b - A.dot(x)                        # step 3\n",
    "        y = lu.solve(r)                         # step 4\n",
    "        xx = copy(x + y)                        # step 5\n",
    "\n",
    "        if k == 1:                              # step 6\n",
    "            # t = 16\n",
    "            # COND = np.linalg.norm(y)/np.linalg.norm(xx) * 10**t\n",
    "            # print(\"cond is ::::\", COND)\n",
    "            COND = np.linalg.cond(A.toarray())\n",
    "\n",
    "        norm_ = np.linalg.norm(x-xx) # * np.linalg.norm(x) * 1e10\n",
    "        print(\"iteration {:3d}, norm = {:e}\".format(k, norm_))\n",
    "\n",
    "        if norm_ < tol:                         # step 7\n",
    "\n",
    "            if verbose:\n",
    "#                 print(\"Conditional number of matrix A is: {:e}\".format(COND))\n",
    "                print(\"The procedure was successful.\")\n",
    "                print(\"IR: A * x - b = {:e}\".format(np.sum(A.dot(xx)-b)))\n",
    "                print(f\"number of iteration is : {k:d}\")\n",
    "                print(\" \")\n",
    "            return xx\n",
    "\n",
    "        k += 1                                 # step 8\n",
    "        x = copy(xx)                           # step 9\n",
    "\n",
    "    print(\"Max iteration exceeded.\")\n",
    "    print(\"The procedure was not successful.\")\n",
    "    print(\"Conditional number of matrix A is: {:e}\".format(COND))\n",
    "    print(\" \")\n",
    "\n",
    "    return None"
   ]
  },
  {
   "cell_type": "code",
   "execution_count": 27,
   "id": "breeding-pennsylvania",
   "metadata": {},
   "outputs": [],
   "source": [
    "def show_results(x, A, b, method):\n",
    "\n",
    "#     print(\"solution is = \")\n",
    "#     for i in x:\n",
    "#         print(\"{:25.16e}\".format(i))\n",
    "    print(\"for {:16s} Ax-b is {:e}\".format(\n",
    "        method,\n",
    "        norm(A.dot(x)-b)))\n",
    "\n",
    "# LOAD DATA\n",
    "def load_data(A_name, B_name):\n",
    "    A = np.loadtxt(A_name, dtype=np.float64)\n",
    "    B = np.loadtxt(B_name, dtype=np.float64)\n",
    "    \n",
    "    return A, B"
   ]
  },
  {
   "cell_type": "code",
   "execution_count": 28,
   "id": "clean-juvenile",
   "metadata": {},
   "outputs": [
    {
     "name": "stdout",
     "output_type": "stream",
     "text": [
      "\n",
      "Conditional number of matrix A is: 5.223236e+25\n"
     ]
    }
   ],
   "source": [
    "A, B = load_data(\"data/A_large.txt\", \"data/B_large.txt\")\n",
    "cond = np.linalg.cond(A)\n",
    "print(\"\\nConditional number of matrix A is: {:e}\".format(cond))"
   ]
  },
  {
   "cell_type": "code",
   "execution_count": 29,
   "id": "adjacent-jenny",
   "metadata": {},
   "outputs": [
    {
     "name": "stdout",
     "output_type": "stream",
     "text": [
      "res :: A * x - b = -2.207863e-11\n",
      "iteration   1, norm = 2.922399e-02\n",
      "iteration   2, norm = 1.145121e-03\n",
      "iteration   3, norm = 1.091830e-03\n",
      "iteration   4, norm = 2.710505e-20\n",
      "The procedure was successful.\n",
      "IR: A * x - b = -1.442585e-12\n",
      "number of iteration is : 4\n",
      " \n",
      "for IterRef          Ax-b is 1.005217e-12\n"
     ]
    }
   ],
   "source": [
    "A_sp = csc_matrix(A) \n",
    "x = iterRef(A_sp, B, tol=1e-15)\n",
    "show_results(x, A_sp, B, \"IterRef\")\n",
    "# print(np.linalg.norm(A.dot(x)-b)/np.linalg.norm(b))"
   ]
  },
  {
   "cell_type": "code",
   "execution_count": null,
   "id": "authentic-sussex",
   "metadata": {},
   "outputs": [],
   "source": []
  }
 ],
 "metadata": {
  "kernelspec": {
   "display_name": "Python 3",
   "language": "python",
   "name": "python3"
  },
  "language_info": {
   "codemirror_mode": {
    "name": "ipython",
    "version": 3
   },
   "file_extension": ".py",
   "mimetype": "text/x-python",
   "name": "python",
   "nbconvert_exporter": "python",
   "pygments_lexer": "ipython3",
   "version": "3.8.5"
  }
 },
 "nbformat": 4,
 "nbformat_minor": 5
}
